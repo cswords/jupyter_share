{
 "cells": [
  {
   "cell_type": "code",
   "execution_count": 1,
   "metadata": {},
   "outputs": [],
   "source": [
    "%load_ext autotime\n",
    "\n",
    "import os\n",
    "import re\n",
    "import io\n",
    "import wget\n",
    "\n",
    "# Define how to get data\n",
    "def get_iris(storage_folder=\"temp\", data_file=\"iris_data.txt\", splitter=','):\n",
    "    data_url = 'http://archive.ics.uci.edu/ml/machine-learning-databases/iris/iris.data'\n",
    "    # Make a storage folder for models and data\n",
    "    if not os.path.exists(storage_folder):\n",
    "        os.makedirs(storage_folder)\n",
    "        \n",
    "    data_path = os.path.join(storage_folder, data_file)\n",
    "    \n",
    "    if not os.path.isfile(os.path.join(storage_folder, data_file)):        \n",
    "        _ = wget.download(data_url, data_path) \n",
    "\n",
    "    data = [l.strip() for l in open(data_path) if l.strip()]\n",
    "    features = [tuple(map(float, x.split(splitter)[:-1])) for x in data]\n",
    "    labels = [x.split(splitter)[-1] for x in data]\n",
    "    \n",
    "    return features, labels\n",
    "\n",
    "def get_satellite(storage_folder=\"temp\", data_file=\"satellite_data.txt\", splitter=' '):\n",
    "    data_url = 'https://archive.ics.uci.edu/ml/machine-learning-databases/statlog/satimage/sat.trn'\n",
    "    # data_url = 'https://archive.ics.uci.edu/ml/machine-learning-databases/statlog/satimage/sat.tst'\n",
    "    # Make a storage folder for models and data\n",
    "    if not os.path.exists(storage_folder):\n",
    "        os.makedirs(storage_folder)\n",
    "        \n",
    "    data_path = os.path.join(storage_folder, data_file)\n",
    "    \n",
    "    if not os.path.isfile(os.path.join(storage_folder, data_file)):           \n",
    "        _ = wget.download(data_url, data_path) \n",
    "\n",
    "    data = [l.strip() for l in open(data_path) if l.strip()]\n",
    "    features = [tuple(map(float, x.split(splitter)[:-1])) for x in data]\n",
    "    labels = [x.split(splitter)[-1] for x in data]\n",
    "    \n",
    "    return features, labels\n",
    "\n",
    "def get_banknote(storage_folder=\"temp\", data_file=\"banknote_data.txt\", splitter=','):\n",
    "    data_url = 'https://archive.ics.uci.edu/ml/machine-learning-databases/00267/data_banknote_authentication.txt'\n",
    "    # Make a storage folder for models and data\n",
    "    if not os.path.exists(storage_folder):\n",
    "        os.makedirs(storage_folder)\n",
    "        \n",
    "    data_path = os.path.join(storage_folder, data_file)\n",
    "    \n",
    "    if not os.path.isfile(os.path.join(storage_folder, data_file)):           \n",
    "        _ = wget.download(data_url, data_path) \n",
    "\n",
    "    data = [l.strip() for l in open(data_path) if l.strip()]\n",
    "    features = [tuple(map(float, x.split(splitter)[:-1])) for x in data]\n",
    "    labels = [x.split(splitter)[-1] for x in data]\n",
    "    \n",
    "    return features, labels\n",
    "\n",
    "vector_values, labels = get_iris()"
   ]
  },
  {
   "cell_type": "code",
   "execution_count": 2,
   "metadata": {},
   "outputs": [
    {
     "name": "stdout",
     "output_type": "stream",
     "text": [
      "Labels: \n",
      "{'Iris-versicolor', 'Iris-virginica', 'Iris-setosa'}\n",
      "Sample size: \n",
      "150\n",
      "time: 1.98 s\n"
     ]
    }
   ],
   "source": [
    "import matplotlib.pyplot as plt\n",
    "import numpy as np\n",
    "import pandas as pd\n",
    "import seaborn as sns\n",
    "from matplotlib.mlab import PCA as mlabPCA\n",
    "import tensorflow as tf\n",
    "import math\n",
    "\n",
    "num_clusters = len(set(labels))\n",
    "num_vectors = len(vector_values)\n",
    "\n",
    "print(\"Labels: \")\n",
    "print(set(labels))\n",
    "print(\"Sample size: \")\n",
    "print(num_vectors)\n",
    "\n",
    "vectors = tf.constant(vector_values, dtype = tf.half)\n",
    "\n",
    "npArray = np.array(vector_values)\n",
    "mlab_pca = mlabPCA(npArray)\n",
    "users_2d = mlab_pca.project(npArray, minfrac=mlab_pca.fracs[1])\n",
    "\n",
    "def drawClusters(assignment_values):\n",
    "    data = {\"x\": [], \"y\": [], \"cluster\": []}\n",
    "    for i in range(len(assignment_values)):\n",
    "        data[\"x\"].append(users_2d[i][0])\n",
    "        data[\"y\"].append(users_2d[i][1])\n",
    "        data[\"cluster\"].append(assignment_values[i])\n",
    "    df = pd.DataFrame(data)\n",
    "    sns.lmplot(\"x\", \"y\", data=df, \n",
    "               fit_reg=False, size=7, \n",
    "               hue=\"cluster\", legend=False)\n",
    "    plt.show()"
   ]
  },
  {
   "cell_type": "code",
   "execution_count": 3,
   "metadata": {},
   "outputs": [
    {
     "name": "stdout",
     "output_type": "stream",
     "text": [
      "time: 210 ms\n"
     ]
    }
   ],
   "source": [
    "def atan2(x, y, epsilon=1.0e-12):\n",
    "    \"\"\"\n",
    "    A hack until the tf developers implement a function that can find the angle from an x and y co-ordinate.\n",
    "    :param x: \n",
    "    :param epsilon: \n",
    "    :return: \n",
    "    \"\"\"\n",
    "    # Add a small number to all zeros, to avoid division by zero:\n",
    "    x = tf.where(tf.equal(x, 0.0), x+epsilon, x)\n",
    "    y = tf.where(tf.equal(y, 0.0), y+epsilon, y)\n",
    "\n",
    "    angle = tf.where(tf.greater(x,0.0), tf.atan(y/x), tf.zeros_like(x))\n",
    "    angle = tf.where(tf.logical_and(tf.less(x,0.0),  tf.greater_equal(y,0.0)), tf.atan(y/x) + np.pi, angle)\n",
    "    angle = tf.where(tf.logical_and(tf.less(x,0.0),  tf.less(y,0.0)), tf.atan(y/x) - np.pi, angle)\n",
    "    angle = tf.where(tf.logical_and(tf.equal(x,0.0), tf.greater(y,0.0)), 0.5*np.pi * tf.ones_like(x), angle)\n",
    "    angle = tf.where(tf.logical_and(tf.equal(x,0.0), tf.less(y,0.0)), -0.5*np.pi * tf.ones_like(x), angle)\n",
    "    angle = tf.where(tf.logical_and(tf.equal(x,0.0), tf.equal(y,0.0)), tf.zeros_like(x), angle)\n",
    "    return angle\n",
    "    \n",
    "vectors_2d = tf.subtract(users_2d, tf.reduce_mean(users_2d, 0))\n",
    "angles_2d = tf.add(atan2(vectors_2d[:,1], vectors_2d[:,0]), np.pi)\n",
    "\n",
    "seg = np.pi*2/num_clusters\n",
    "init_assignments = tf.cast(tf.divide(angles_2d, seg), dtype=tf.int64)\n",
    "\n",
    "def initialize_clusters():\n",
    "    init_op = tf.global_variables_initializer()\n",
    "    with tf.Session() as sess:\n",
    "        sess.run(init_op)\n",
    "        assignment_values = sess.run(init_assignments)\n",
    "        sess.close()\n",
    "    return assignment_values"
   ]
  },
  {
   "cell_type": "code",
   "execution_count": 4,
   "metadata": {},
   "outputs": [
    {
     "name": "stdout",
     "output_type": "stream",
     "text": [
      "time: 632 ms\n"
     ]
    }
   ],
   "source": [
    "#iteration variable\n",
    "assignments = tf.Variable(initialize_clusters(), dtype=tf.int64)\n",
    "\n",
    "#clusters are based on assignments\n",
    "clusters = [tf.gather(vectors, tf.squeeze(tf.where(tf.equal(assignments, c)), squeeze_dims=[1])) for c in range(num_clusters)]"
   ]
  },
  {
   "cell_type": "code",
   "execution_count": 5,
   "metadata": {},
   "outputs": [
    {
     "name": "stdout",
     "output_type": "stream",
     "text": [
      "time: 2.01 ms\n"
     ]
    }
   ],
   "source": [
    "def crossDistance(a, b, ord='euclidean'):\n",
    "    diff = tf.subtract(tf.expand_dims(a, 0), tf.expand_dims(b, 1))\n",
    "    result = tf.norm(diff, ord, 2)\n",
    "    return result"
   ]
  },
  {
   "cell_type": "code",
   "execution_count": 6,
   "metadata": {},
   "outputs": [
    {
     "name": "stdout",
     "output_type": "stream",
     "text": [
      "Wall time: 24 ms\n",
      "time: 32 ms\n"
     ]
    }
   ],
   "source": [
    "%%time\n",
    "means = tf.concat([\n",
    "    tf.expand_dims(tf.reduce_mean(cluster, 0), 0) \n",
    "    for cluster in clusters], 0)\n",
    "kmeans = tf.argmin(crossDistance(vectors, means), 0)"
   ]
  },
  {
   "cell_type": "code",
   "execution_count": 7,
   "metadata": {},
   "outputs": [
    {
     "name": "stdout",
     "output_type": "stream",
     "text": [
      "Wall time: 71.1 ms\n",
      "time: 74.1 ms\n"
     ]
    }
   ],
   "source": [
    "%%time\n",
    "medoids = tf.concat([\n",
    "    tf.expand_dims(tf.gather(cluster, tf.argmin(tf.reduce_sum(crossDistance(cluster, cluster), 0), 0)), 0)\n",
    "    for cluster in clusters], 0)\n",
    "kmedoids = tf.argmin(crossDistance(vectors, medoids), 0)"
   ]
  },
  {
   "cell_type": "code",
   "execution_count": 8,
   "metadata": {},
   "outputs": [
    {
     "name": "stdout",
     "output_type": "stream",
     "text": [
      "Wall time: 1.05 s\n",
      "time: 1.19 s\n"
     ]
    }
   ],
   "source": [
    "%%time\n",
    "def subsample(D, size, t):\n",
    "    size_D = tf.shape(D)[0]\n",
    "    selector_1 = tf.range(size_D, dtype=tf.int32)\n",
    "    selector_t = tf.slice(tf.map_fn(\n",
    "      lambda one: tf.random_shuffle(selector_1)  \n",
    "    , tf.ones([t, size_D], dtype=tf.int32)), [0,0], [t, size])\n",
    "    \n",
    "    return tf.gather(D, selector_t)\n",
    "\n",
    "def HM(X, D, t=500, psi = 20, lmbda=1.0, dt=tf.half):\n",
    "    size_X = tf.shape(X)[0]\n",
    "    dims_X = tf.shape(X)[1]\n",
    "    size_D = tf.shape(D)[0]\n",
    "    \n",
    "    ones_tX = tf.ones([t, size_X, dims_X], dtype=dt)  \n",
    "    \n",
    "    psi = tf.cond(tf.logical_and(tf.less(0, psi), tf.less(psi, size_D)), lambda: tf.constant(psi), lambda: size_D)\n",
    "    set_t_psi = tf.cond(psi<size_D, \n",
    "                        lambda: subsample(D, psi, t), \n",
    "                        # order of D will not matter and it will be broadcasted\n",
    "                        lambda: tf.expand_dims(D, 0)) \n",
    "    \n",
    "    ones_t_psi = tf.ones([t, psi, dims_X], dtype=dt) \n",
    "    \n",
    "    hm_X = tf.zeros([size_X], dtype=dt)\n",
    "    \n",
    "    directions = tf.random_uniform([t, dims_X], minval = -1, maxval = 1, dtype = dt)\n",
    "    projectors = tf.divide(directions, tf.norm(directions, axis=1, keep_dims=True))\n",
    "    \n",
    "    projects_X = tf.squeeze(tf.matmul(\n",
    "        tf.expand_dims(tf.multiply(ones_tX, tf.expand_dims(X, 0)), 2), \n",
    "        tf.expand_dims(tf.multiply(ones_tX, tf.expand_dims(projectors, 1)), 3)), [2, 3])\n",
    "    \n",
    "    projects_psi = tf.squeeze(tf.matmul(\n",
    "        tf.expand_dims(tf.multiply(ones_t_psi, set_t_psi), 2), \n",
    "        tf.expand_dims(tf.multiply(ones_t_psi, tf.expand_dims(projectors, 1)), 3)), [2, 3])\n",
    "    \n",
    "    mid_t_min = tf.add(\n",
    "        tf.multiply(tf.reduce_max(projects_psi, 1), (1-lmbda)/2),\n",
    "        tf.multiply(tf.reduce_min(projects_psi, 1), (1+lmbda)/2))\n",
    "    \n",
    "    mid_t_max = tf.add(\n",
    "        tf.multiply(tf.reduce_max(projects_psi, 1), (1+lmbda)/2),\n",
    "        tf.multiply(tf.reduce_min(projects_psi, 1), (1-lmbda)/2))\n",
    "    \n",
    "    mid_t = tf.add(mid_t_min, tf.multiply(tf.random_uniform([t], 0, 1, dtype=dt), tf.subtract(mid_t_max, mid_t_min)))\n",
    "    \n",
    "    mass_l_t = tf.divide(tf.reduce_sum(\n",
    "        tf.where(\n",
    "            tf.less(projects_psi, tf.expand_dims(mid_t, 1)), \n",
    "            tf.ones([t, psi], dtype=dt), \n",
    "            tf.zeros([t, psi], dtype=dt)), 1), tf.cast(psi, dtype=dt))\n",
    "    \n",
    "    mass_r_t = tf.add(tf.multiply(mass_l_t, -1), 1)\n",
    "    \n",
    "    mass_t = tf.where(tf.less(projects_X, tf.expand_dims(mid_t, 1)), \n",
    "                      tf.multiply(tf.ones([t, size_X], dtype=dt), tf.expand_dims(mass_l_t, 1)), \n",
    "                      tf.multiply(tf.ones([t, size_X], dtype=dt), tf.expand_dims(mass_r_t, 1)))\n",
    "    hs_mass = tf.reduce_mean(mass_t, 0)\n",
    "    return hs_mass\n",
    "\n",
    "kmass = tf.argmax(tf.concat([\n",
    "    tf.expand_dims(tf.divide(HM(vectors, cluster), tf.reduce_min(HM(vectors, cluster), 0, keep_dims=True)), 1)\n",
    "    for cluster in clusters\n",
    "], 1), 1)"
   ]
  },
  {
   "cell_type": "code",
   "execution_count": 9,
   "metadata": {},
   "outputs": [
    {
     "name": "stdout",
     "output_type": "stream",
     "text": [
      "Wall time: 3 ms\n",
      "time: 67 ms\n"
     ]
    }
   ],
   "source": [
    "%%time\n",
    "%matplotlib inline\n",
    "\n",
    "# method = kmeans\n",
    "# method = kmedoids\n",
    "# method = kmass\n",
    "\n",
    "def run(method = kmeans, p=1, round_max=10, output=False):\n",
    "    assignment_values = initialize_clusters()\n",
    "    \n",
    "    # os.environ['TF_CPP_MIN_LOG_LEVEL']='2'\n",
    "    # tf.logging.set_verbosity(tf.logging.ERROR)\n",
    "    gpu_options = tf.GPUOptions(per_process_gpu_memory_fraction=0.333)\n",
    "    sess_config = tf.ConfigProto(gpu_options=gpu_options)\n",
    "\n",
    "    init_op = tf.global_variables_initializer()\n",
    "    round_i = 0\n",
    "    keep_hurdle = num_vectors * p\n",
    "    keep_max = -1\n",
    "    best_result = assignment_values\n",
    "\n",
    "    # drawClusters(assignment_values)\n",
    "    while round_i < round_max:    \n",
    "        round_i = round_i + 1\n",
    "        if output:\n",
    "            print(round_i)\n",
    "        with tf.Session(config=sess_config) as sess:\n",
    "            sess.run(init_op)\n",
    "            round_result = sess.run(method)\n",
    "\n",
    "            keep_count = np.sum([\n",
    "                1 if assignment_values[i]==round_result[i] else 0\n",
    "                for i in range(num_vectors)\n",
    "            ])\n",
    "            if output:\n",
    "                print(keep_count)\n",
    "            if keep_max < keep_count:\n",
    "                keep_max = keep_count\n",
    "                best_result = round_result\n",
    "                if output:\n",
    "                    print(\"best_result was updated.\")\n",
    "\n",
    "            assignment_values = sess.run(tf.assign(assignments, round_result))\n",
    "    #         drawClusters(assignment_values)\n",
    "            sess.close()\n",
    "        if keep_count >= keep_hurdle:\n",
    "            if output:\n",
    "                print(\"keep_hurdle was hit.\")\n",
    "            break\n",
    "\n",
    "    if output:\n",
    "        print(\"The final P is \")\n",
    "        print(float(keep_max)/float(num_vectors))    \n",
    "        drawClusters(best_result)\n",
    "    return best_result"
   ]
  },
  {
   "cell_type": "code",
   "execution_count": 10,
   "metadata": {},
   "outputs": [
    {
     "name": "stdout",
     "output_type": "stream",
     "text": [
      "time: 6 ms\n"
     ]
    }
   ],
   "source": [
    "%run metrics.py"
   ]
  },
  {
   "cell_type": "code",
   "execution_count": 11,
   "metadata": {},
   "outputs": [
    {
     "name": "stdout",
     "output_type": "stream",
     "text": [
      "time: 54 ms\n"
     ]
    }
   ],
   "source": [
    "n_runs = 40 # number of runs with random initialization for clustering evaluation.\n",
    "\n",
    "def evaluation_scores(groundtruth, labels_pred):\n",
    "    \"\"\"\n",
    "    Eval scores of the predicted results.\n",
    "     \n",
    "    :param: groundtruth (type list): the groundtruth (GT) of cluster assignment. Each element denotes an item's GT cluster_id. \n",
    "    :param: labels_pred (type list): the predicted cluster assignments. Each element denotes an item's predicted cluster_id.\n",
    "    \"\"\"\n",
    "    NMI = normalized_mutual_info_score(groundtruth,labels_pred)\n",
    "    A = accuracy(groundtruth,labels_pred)\n",
    "    F1 = f_measure(groundtruth,labels_pred)\n",
    "    P = purity(groundtruth,labels_pred)\n",
    "    RI = random_index(groundtruth,labels_pred)\n",
    "    ARI = adjusted_rand_score(groundtruth,labels_pred)\n",
    "    map_pairs = get_map_pairs(groundtruth,labels_pred)\n",
    "    return NMI, A, F1, P, RI, ARI, map_pairs\n",
    "    \n",
    "def evaluation(method = kmeans):    \n",
    "    import time\n",
    "    t0 = time.time()\n",
    "    NMIs,As,F1s = [],[],[]\n",
    "    i_run = 1\n",
    "    labels_unique = np.unique(labels)\n",
    "    labels_indexed = []\n",
    "    for label in labels:\n",
    "        labels_indexed.append(np.where(labels_unique==label))\n",
    "    labels_indexed = np.squeeze(labels_indexed)\n",
    "    while i_run <= n_runs:\n",
    "        t1 = time.time()\n",
    "        result = run(method = method, output=False)\n",
    "        NMI,A,F1,P,RI,ARI,map_pairs = evaluation_scores(labels_indexed, result)\n",
    "        print(\"\\t {}-th run(time={}s),<Acc, F1, NMI>\\t{}\\t{}\\t{}\".format(i_run, time.time()-t1, A, F1, NMI))\n",
    "        i_run = i_run+1\n",
    "        NMIs.append(NMI)\n",
    "        As.append(A)\n",
    "        F1s.append(F1)\n",
    "\n",
    "    print(\"Results of {} runs (mean,std_var):\\n\\t Acc: {}, {}, {}, {}\\n\\t F1 : {}, {}, {}, {}\\n\\t NMI: {}, {}, {}, {}\"\n",
    "          .format(n_runs\n",
    "                  , np.mean(As),np.std(As), np.min(As), np.max(As)\n",
    "                  , np.mean(F1s),np.std(F1s), np.min(F1s), np.max(F1s)\n",
    "                  ,np.mean(NMIs),np.std(NMIs), np.min(NMIs), np.max(NMIs)))\n",
    "    print(\"Running time: {}s\".format(time.time() - t0))"
   ]
  },
  {
   "cell_type": "code",
   "execution_count": 12,
   "metadata": {},
   "outputs": [
    {
     "name": "stdout",
     "output_type": "stream",
     "text": [
      "\t 1-th run(time=8.296674251556396s),<Acc, F1, NMI>\t0.7466666666666667\t0.7260812328569854\t0.5919190202851002\n",
      "\t 2-th run(time=7.836568832397461s),<Acc, F1, NMI>\t0.7933333333333333\t0.7776407485663176\t0.6658838035484518\n",
      "\t 3-th run(time=7.9176554679870605s),<Acc, F1, NMI>\t0.66\t0.5779308453739316\t0.6109504712138435\n",
      "\t 4-th run(time=7.928632736206055s),<Acc, F1, NMI>\t0.78\t0.7697215541333796\t0.6048666739068796\n",
      "\t 5-th run(time=8.044715881347656s),<Acc, F1, NMI>\t0.72\t0.6881944444401107\t0.580080939794489\n",
      "\t 6-th run(time=8.163801670074463s),<Acc, F1, NMI>\t0.7666666666666667\t0.7464082234605084\t0.6361620165089533\n",
      "\t 7-th run(time=8.15660047531128s),<Acc, F1, NMI>\t0.7333333333333333\t0.7117084296246591\t0.5675439284542232\n",
      "\t 8-th run(time=8.212835311889648s),<Acc, F1, NMI>\t0.6666666666666666\t0.5910493827124469\t0.6072340071381395\n",
      "\t 9-th run(time=8.387960195541382s),<Acc, F1, NMI>\t0.6466666666666666\t0.5592954230691376\t0.5943579056494029\n",
      "\t 10-th run(time=8.449243068695068s),<Acc, F1, NMI>\t0.76\t0.7372763230497482\t0.6333895645460664\n",
      "\t 11-th run(time=8.457009553909302s),<Acc, F1, NMI>\t0.74\t0.712982028877963\t0.6036667374189207\n",
      "\t 12-th run(time=8.659216165542603s),<Acc, F1, NMI>\t0.6666666666666666\t0.5829821262581413\t0.634072774232661\n",
      "\t 13-th run(time=8.616143703460693s),<Acc, F1, NMI>\t0.7466666666666667\t0.7298985955893018\t0.5731352177532892\n",
      "\t 14-th run(time=8.764541864395142s),<Acc, F1, NMI>\t0.7466666666666667\t0.7224241135092155\t0.605720553641188\n",
      "\t 15-th run(time=8.847348928451538s),<Acc, F1, NMI>\t0.6933333333333334\t0.6332059022912783\t0.6234222005232207\n",
      "\t 16-th run(time=8.959364891052246s),<Acc, F1, NMI>\t0.8066666666666666\t0.7943913849378473\t0.6729073475579728\n",
      "\t 17-th run(time=8.930793523788452s),<Acc, F1, NMI>\t0.74\t0.712982028877963\t0.6036667374189207\n",
      "\t 18-th run(time=9.044426441192627s),<Acc, F1, NMI>\t0.68\t0.6160982410944483\t0.6027143427780861\n",
      "\t 19-th run(time=9.137561321258545s),<Acc, F1, NMI>\t0.82\t0.8098574066268114\t0.6852065948842714\n",
      "\t 20-th run(time=9.186253070831299s),<Acc, F1, NMI>\t0.76\t0.7400666614945189\t0.6046401544824712\n",
      "\t 21-th run(time=9.267614364624023s),<Acc, F1, NMI>\t0.7933333333333333\t0.7776407485663176\t0.6658838035484518\n",
      "\t 22-th run(time=9.373648166656494s),<Acc, F1, NMI>\t0.64\t0.5358946608915355\t0.6361324893949848\n",
      "\t 23-th run(time=9.388691186904907s),<Acc, F1, NMI>\t0.8133333333333334\t0.8062062137548202\t0.652903695949534\n",
      "\t 24-th run(time=9.611850261688232s),<Acc, F1, NMI>\t0.7666666666666667\t0.7460576908063178\t0.6323760078383933\n",
      "\t 25-th run(time=9.598982572555542s),<Acc, F1, NMI>\t0.72\t0.6881944444401107\t0.580080939794489\n",
      "\t 26-th run(time=9.633052349090576s),<Acc, F1, NMI>\t0.78\t0.7636879071547954\t0.638115145822583\n",
      "\t 27-th run(time=9.802002906799316s),<Acc, F1, NMI>\t0.64\t0.5358946608915355\t0.6361324893949848\n",
      "\t 28-th run(time=9.772932529449463s),<Acc, F1, NMI>\t0.7266666666666667\t0.7062665085956633\t0.5592749566535891\n",
      "\t 29-th run(time=9.95510458946228s),<Acc, F1, NMI>\t0.7\t0.6382870147415117\t0.6476012474021192\n",
      "\t 30-th run(time=9.929105281829834s),<Acc, F1, NMI>\t0.62\t0.5205579526485407\t0.5721027266691513\n",
      "\t 31-th run(time=10.108917236328125s),<Acc, F1, NMI>\t0.6266666666666667\t0.5257319512607544\t0.5921463191332608\n",
      "\t 32-th run(time=10.233271837234497s),<Acc, F1, NMI>\t0.6266666666666667\t0.5257319512607544\t0.5921463191332608\n",
      "\t 33-th run(time=10.136219024658203s),<Acc, F1, NMI>\t0.6466666666666666\t0.5408889787269628\t0.6607447999702782\n",
      "\t 34-th run(time=10.382359981536865s),<Acc, F1, NMI>\t0.64\t0.5453115855560117\t0.6012253727031254\n",
      "\t 35-th run(time=10.500460863113403s),<Acc, F1, NMI>\t0.7666666666666667\t0.7528519067575944\t0.597481841858516\n",
      "\t 36-th run(time=10.368000984191895s),<Acc, F1, NMI>\t0.7533333333333333\t0.7277099009818927\t0.6277479537387012\n",
      "\t 37-th run(time=10.59317398071289s),<Acc, F1, NMI>\t0.66\t0.5507168818395666\t0.7191165249461403\n",
      "\t 38-th run(time=10.650630712509155s),<Acc, F1, NMI>\t0.7\t0.6571722903648466\t0.5773372131876882\n",
      "\t 39-th run(time=10.729645013809204s),<Acc, F1, NMI>\t0.7933333333333333\t0.7801330320968173\t0.6519630217509718\n",
      "\t 40-th run(time=10.801750183105469s),<Acc, F1, NMI>\t0.7666666666666667\t0.7495904710183284\t0.6135819103354031\n",
      "Results of 40 runs (mean,std_var):\n",
      "\t Acc: 0.7213333333333334, 0.0589576118919347, 0.62, 0.82\n",
      "\t F1 : 0.6753680462299847, 0.09317701714122825, 0.5205579526485407, 0.8098574066268114\n",
      "\t NMI: 0.6188908942740545, 0.0349486418243033, 0.5592749566535891, 0.7191165249461403\n",
      "Running time: 370.8367745876312s\n",
      "time: 6min 10s\n"
     ]
    }
   ],
   "source": [
    "evaluation(kmass)"
   ]
  },
  {
   "cell_type": "code",
   "execution_count": 13,
   "metadata": {},
   "outputs": [
    {
     "name": "stdout",
     "output_type": "stream",
     "text": [
      "\t 1-th run(time=2.0004193782806396s),<Acc, F1, NMI>\t0.88\t0.8787878787829131\t0.7277489401358581\n",
      "\t 2-th run(time=1.9993066787719727s),<Acc, F1, NMI>\t0.88\t0.8787878787829131\t0.7277489401358581\n",
      "\t 3-th run(time=2.0044236183166504s),<Acc, F1, NMI>\t0.88\t0.8787878787829131\t0.7277489401358581\n",
      "\t 4-th run(time=2.0024654865264893s),<Acc, F1, NMI>\t0.88\t0.8787878787829131\t0.7277489401358581\n",
      "\t 5-th run(time=2.026439905166626s),<Acc, F1, NMI>\t0.88\t0.8787878787829131\t0.7277489401358581\n",
      "\t 6-th run(time=2.0184342861175537s),<Acc, F1, NMI>\t0.88\t0.8787878787829131\t0.7277489401358581\n",
      "\t 7-th run(time=2.0214486122131348s),<Acc, F1, NMI>\t0.88\t0.8787878787829131\t0.7277489401358581\n",
      "\t 8-th run(time=2.0805823802948s),<Acc, F1, NMI>\t0.88\t0.8787878787829131\t0.7277489401358581\n",
      "\t 9-th run(time=1.952399492263794s),<Acc, F1, NMI>\t0.88\t0.8787878787829131\t0.7277489401358581\n",
      "\t 10-th run(time=2.0234999656677246s),<Acc, F1, NMI>\t0.88\t0.8787878787829131\t0.7277489401358581\n",
      "\t 11-th run(time=2.0374410152435303s),<Acc, F1, NMI>\t0.88\t0.8787878787829131\t0.7277489401358581\n",
      "\t 12-th run(time=2.055246353149414s),<Acc, F1, NMI>\t0.88\t0.8787878787829131\t0.7277489401358581\n",
      "\t 13-th run(time=2.053831100463867s),<Acc, F1, NMI>\t0.88\t0.8787878787829131\t0.7277489401358581\n",
      "\t 14-th run(time=2.0689949989318848s),<Acc, F1, NMI>\t0.88\t0.8787878787829131\t0.7277489401358581\n",
      "\t 15-th run(time=2.067871332168579s),<Acc, F1, NMI>\t0.88\t0.8787878787829131\t0.7277489401358581\n",
      "\t 16-th run(time=2.059506893157959s),<Acc, F1, NMI>\t0.88\t0.8787878787829131\t0.7277489401358581\n",
      "\t 17-th run(time=2.07247257232666s),<Acc, F1, NMI>\t0.88\t0.8787878787829131\t0.7277489401358581\n",
      "\t 18-th run(time=2.0669374465942383s),<Acc, F1, NMI>\t0.88\t0.8787878787829131\t0.7277489401358581\n",
      "\t 19-th run(time=2.068232297897339s),<Acc, F1, NMI>\t0.88\t0.8787878787829131\t0.7277489401358581\n",
      "\t 20-th run(time=2.082111120223999s),<Acc, F1, NMI>\t0.88\t0.8787878787829131\t0.7277489401358581\n",
      "\t 21-th run(time=2.0773708820343018s),<Acc, F1, NMI>\t0.88\t0.8787878787829131\t0.7277489401358581\n",
      "\t 22-th run(time=2.0864930152893066s),<Acc, F1, NMI>\t0.88\t0.8787878787829131\t0.7277489401358581\n",
      "\t 23-th run(time=2.0851309299468994s),<Acc, F1, NMI>\t0.88\t0.8787878787829131\t0.7277489401358581\n",
      "\t 24-th run(time=2.1084859371185303s),<Acc, F1, NMI>\t0.88\t0.8787878787829131\t0.7277489401358581\n",
      "\t 25-th run(time=2.1224122047424316s),<Acc, F1, NMI>\t0.88\t0.8787878787829131\t0.7277489401358581\n",
      "\t 26-th run(time=2.1024820804595947s),<Acc, F1, NMI>\t0.88\t0.8787878787829131\t0.7277489401358581\n",
      "\t 27-th run(time=2.110180616378784s),<Acc, F1, NMI>\t0.88\t0.8787878787829131\t0.7277489401358581\n",
      "\t 28-th run(time=2.1105003356933594s),<Acc, F1, NMI>\t0.88\t0.8787878787829131\t0.7277489401358581\n",
      "\t 29-th run(time=2.124999523162842s),<Acc, F1, NMI>\t0.88\t0.8787878787829131\t0.7277489401358581\n",
      "\t 30-th run(time=2.1265571117401123s),<Acc, F1, NMI>\t0.88\t0.8787878787829131\t0.7277489401358581\n",
      "\t 31-th run(time=2.1415045261383057s),<Acc, F1, NMI>\t0.88\t0.8787878787829131\t0.7277489401358581\n",
      "\t 32-th run(time=2.1265337467193604s),<Acc, F1, NMI>\t0.88\t0.8787878787829131\t0.7277489401358581\n",
      "\t 33-th run(time=2.136185884475708s),<Acc, F1, NMI>\t0.88\t0.8787878787829131\t0.7277489401358581\n",
      "\t 34-th run(time=2.1375701427459717s),<Acc, F1, NMI>\t0.88\t0.8787878787829131\t0.7277489401358581\n",
      "\t 35-th run(time=2.14255428314209s),<Acc, F1, NMI>\t0.88\t0.8787878787829131\t0.7277489401358581\n",
      "\t 36-th run(time=2.1432511806488037s),<Acc, F1, NMI>\t0.88\t0.8787878787829131\t0.7277489401358581\n",
      "\t 37-th run(time=2.165553092956543s),<Acc, F1, NMI>\t0.88\t0.8787878787829131\t0.7277489401358581\n",
      "\t 38-th run(time=2.15207576751709s),<Acc, F1, NMI>\t0.88\t0.8787878787829131\t0.7277489401358581\n",
      "\t 39-th run(time=2.175612211227417s),<Acc, F1, NMI>\t0.88\t0.8787878787829131\t0.7277489401358581\n",
      "\t 40-th run(time=2.1685359477996826s),<Acc, F1, NMI>\t0.88\t0.8787878787829131\t0.7277489401358581\n",
      "Results of 40 runs (mean,std_var):\n",
      "\t Acc: 0.8800000000000001, 1.1102230246251565e-16, 0.88, 0.88\n",
      "\t F1 : 0.8787878787829131, 0.0, 0.8787878787829131, 0.8787878787829131\n",
      "\t NMI: 0.7277489401358581, 0.0, 0.7277489401358581, 0.7277489401358581\n",
      "Running time: 83.31205773353577s\n",
      "time: 1min 23s\n"
     ]
    }
   ],
   "source": [
    "evaluation(kmeans)"
   ]
  },
  {
   "cell_type": "code",
   "execution_count": 14,
   "metadata": {},
   "outputs": [
    {
     "name": "stdout",
     "output_type": "stream",
     "text": [
      "\t 1-th run(time=2.185377836227417s),<Acc, F1, NMI>\t0.8933333333333333\t0.8917748917699418\t0.7582057278194196\n",
      "\t 2-th run(time=2.179297924041748s),<Acc, F1, NMI>\t0.8933333333333333\t0.8917748917699418\t0.7582057278194196\n",
      "\t 3-th run(time=2.187251567840576s),<Acc, F1, NMI>\t0.8933333333333333\t0.8917748917699418\t0.7582057278194196\n",
      "\t 4-th run(time=2.19069242477417s),<Acc, F1, NMI>\t0.8933333333333333\t0.8917748917699418\t0.7582057278194196\n",
      "\t 5-th run(time=2.203566312789917s),<Acc, F1, NMI>\t0.8933333333333333\t0.8917748917699418\t0.7582057278194196\n",
      "\t 6-th run(time=2.1850576400756836s),<Acc, F1, NMI>\t0.8933333333333333\t0.8917748917699418\t0.7582057278194196\n",
      "\t 7-th run(time=2.1959967613220215s),<Acc, F1, NMI>\t0.8933333333333333\t0.8917748917699418\t0.7582057278194196\n",
      "\t 8-th run(time=2.211610794067383s),<Acc, F1, NMI>\t0.8933333333333333\t0.8917748917699418\t0.7582057278194196\n",
      "\t 9-th run(time=2.1985926628112793s),<Acc, F1, NMI>\t0.8933333333333333\t0.8917748917699418\t0.7582057278194196\n",
      "\t 10-th run(time=2.2045938968658447s),<Acc, F1, NMI>\t0.8933333333333333\t0.8917748917699418\t0.7582057278194196\n",
      "\t 11-th run(time=2.2199528217315674s),<Acc, F1, NMI>\t0.8933333333333333\t0.8917748917699418\t0.7582057278194196\n",
      "\t 12-th run(time=2.213168144226074s),<Acc, F1, NMI>\t0.8933333333333333\t0.8917748917699418\t0.7582057278194196\n",
      "\t 13-th run(time=2.230797052383423s),<Acc, F1, NMI>\t0.8933333333333333\t0.8917748917699418\t0.7582057278194196\n",
      "\t 14-th run(time=2.2296195030212402s),<Acc, F1, NMI>\t0.8933333333333333\t0.8917748917699418\t0.7582057278194196\n",
      "\t 15-th run(time=2.2428295612335205s),<Acc, F1, NMI>\t0.8933333333333333\t0.8917748917699418\t0.7582057278194196\n",
      "\t 16-th run(time=2.240849494934082s),<Acc, F1, NMI>\t0.8933333333333333\t0.8917748917699418\t0.7582057278194196\n",
      "\t 17-th run(time=2.2465972900390625s),<Acc, F1, NMI>\t0.8933333333333333\t0.8917748917699418\t0.7582057278194196\n",
      "\t 18-th run(time=2.2445950508117676s),<Acc, F1, NMI>\t0.8933333333333333\t0.8917748917699418\t0.7582057278194196\n",
      "\t 19-th run(time=2.277329444885254s),<Acc, F1, NMI>\t0.8933333333333333\t0.8917748917699418\t0.7582057278194196\n",
      "\t 20-th run(time=2.253732442855835s),<Acc, F1, NMI>\t0.8933333333333333\t0.8917748917699418\t0.7582057278194196\n",
      "\t 21-th run(time=2.263690710067749s),<Acc, F1, NMI>\t0.8933333333333333\t0.8917748917699418\t0.7582057278194196\n",
      "\t 22-th run(time=2.2554032802581787s),<Acc, F1, NMI>\t0.8933333333333333\t0.8917748917699418\t0.7582057278194196\n",
      "\t 23-th run(time=2.280604362487793s),<Acc, F1, NMI>\t0.8933333333333333\t0.8917748917699418\t0.7582057278194196\n",
      "\t 24-th run(time=2.2675061225891113s),<Acc, F1, NMI>\t0.8933333333333333\t0.8917748917699418\t0.7582057278194196\n",
      "\t 25-th run(time=2.3789379596710205s),<Acc, F1, NMI>\t0.8933333333333333\t0.8917748917699418\t0.7582057278194196\n",
      "\t 26-th run(time=2.3066952228546143s),<Acc, F1, NMI>\t0.8933333333333333\t0.8917748917699418\t0.7582057278194196\n",
      "\t 27-th run(time=2.2926173210144043s),<Acc, F1, NMI>\t0.8933333333333333\t0.8917748917699418\t0.7582057278194196\n",
      "\t 28-th run(time=2.32485294342041s),<Acc, F1, NMI>\t0.8933333333333333\t0.8917748917699418\t0.7582057278194196\n",
      "\t 29-th run(time=2.3006694316864014s),<Acc, F1, NMI>\t0.8933333333333333\t0.8917748917699418\t0.7582057278194196\n",
      "\t 30-th run(time=2.18717622756958s),<Acc, F1, NMI>\t0.8933333333333333\t0.8917748917699418\t0.7582057278194196\n",
      "\t 31-th run(time=2.421043634414673s),<Acc, F1, NMI>\t0.8933333333333333\t0.8917748917699418\t0.7582057278194196\n",
      "\t 32-th run(time=2.3136448860168457s),<Acc, F1, NMI>\t0.8933333333333333\t0.8917748917699418\t0.7582057278194196\n",
      "\t 33-th run(time=2.317641258239746s),<Acc, F1, NMI>\t0.8933333333333333\t0.8917748917699418\t0.7582057278194196\n",
      "\t 34-th run(time=2.3246700763702393s),<Acc, F1, NMI>\t0.8933333333333333\t0.8917748917699418\t0.7582057278194196\n",
      "\t 35-th run(time=2.3207263946533203s),<Acc, F1, NMI>\t0.8933333333333333\t0.8917748917699418\t0.7582057278194196\n",
      "\t 36-th run(time=2.316312313079834s),<Acc, F1, NMI>\t0.8933333333333333\t0.8917748917699418\t0.7582057278194196\n",
      "\t 37-th run(time=2.3366708755493164s),<Acc, F1, NMI>\t0.8933333333333333\t0.8917748917699418\t0.7582057278194196\n",
      "\t 38-th run(time=2.3426527976989746s),<Acc, F1, NMI>\t0.8933333333333333\t0.8917748917699418\t0.7582057278194196\n",
      "\t 39-th run(time=2.3546741008758545s),<Acc, F1, NMI>\t0.8933333333333333\t0.8917748917699418\t0.7582057278194196\n",
      "\t 40-th run(time=2.349224805831909s),<Acc, F1, NMI>\t0.8933333333333333\t0.8917748917699418\t0.7582057278194196\n",
      "Results of 40 runs (mean,std_var):\n",
      "\t Acc: 0.8933333333333333, 0.0, 0.8933333333333333, 0.8933333333333333\n",
      "\t F1 : 0.8917748917699418, 0.0, 0.8917748917699418, 0.8917748917699418\n",
      "\t NMI: 0.7582057278194196, 0.0, 0.7582057278194196, 0.7582057278194196\n",
      "Running time: 90.60592103004456s\n",
      "time: 1min 30s\n"
     ]
    }
   ],
   "source": [
    "evaluation(kmedoids)"
   ]
  }
 ],
 "metadata": {
  "kernelspec": {
   "display_name": "Python 3",
   "language": "python",
   "name": "python3"
  },
  "language_info": {
   "codemirror_mode": {
    "name": "ipython",
    "version": 3
   },
   "file_extension": ".py",
   "mimetype": "text/x-python",
   "name": "python",
   "nbconvert_exporter": "python",
   "pygments_lexer": "ipython3",
   "version": "3.5.3"
  },
  "widgets": {
   "state": {},
   "version": "1.1.2"
  }
 },
 "nbformat": 4,
 "nbformat_minor": 2
}
