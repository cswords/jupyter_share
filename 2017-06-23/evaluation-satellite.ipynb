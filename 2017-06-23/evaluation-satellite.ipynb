{
 "cells": [
  {
   "cell_type": "code",
   "execution_count": 1,
   "metadata": {},
   "outputs": [],
   "source": [
    "%load_ext autotime\n",
    "\n",
    "import os\n",
    "import re\n",
    "import io\n",
    "import wget\n",
    "\n",
    "# Define how to get data\n",
    "def get_iris(storage_folder=\"temp\", data_file=\"iris_data.txt\", splitter=','):\n",
    "    data_url = 'http://archive.ics.uci.edu/ml/machine-learning-databases/iris/iris.data'\n",
    "    # Make a storage folder for models and data\n",
    "    if not os.path.exists(storage_folder):\n",
    "        os.makedirs(storage_folder)\n",
    "        \n",
    "    data_path = os.path.join(storage_folder, data_file)\n",
    "    \n",
    "    if not os.path.isfile(os.path.join(storage_folder, data_file)):        \n",
    "        _ = wget.download(data_url, data_path) \n",
    "\n",
    "    data = [l.strip() for l in open(data_path) if l.strip()]\n",
    "    features = [tuple(map(float, x.split(splitter)[:-1])) for x in data]\n",
    "    labels = [x.split(splitter)[-1] for x in data]\n",
    "    \n",
    "    return features, labels\n",
    "\n",
    "def get_satellite(storage_folder=\"temp\", data_file=\"satellite_data.txt\", splitter=' '):\n",
    "    data_url = 'https://archive.ics.uci.edu/ml/machine-learning-databases/statlog/satimage/sat.trn'\n",
    "    # data_url = 'https://archive.ics.uci.edu/ml/machine-learning-databases/statlog/satimage/sat.tst'\n",
    "    # Make a storage folder for models and data\n",
    "    if not os.path.exists(storage_folder):\n",
    "        os.makedirs(storage_folder)\n",
    "        \n",
    "    data_path = os.path.join(storage_folder, data_file)\n",
    "    \n",
    "    if not os.path.isfile(os.path.join(storage_folder, data_file)):           \n",
    "        _ = wget.download(data_url, data_path) \n",
    "\n",
    "    data = [l.strip() for l in open(data_path) if l.strip()]\n",
    "    features = [tuple(map(float, x.split(splitter)[:-1])) for x in data]\n",
    "    labels = [x.split(splitter)[-1] for x in data]\n",
    "    \n",
    "    return features, labels\n",
    "\n",
    "def get_banknote(storage_folder=\"temp\", data_file=\"banknote_data.txt\", splitter=','):\n",
    "    data_url = 'https://archive.ics.uci.edu/ml/machine-learning-databases/00267/data_banknote_authentication.txt'\n",
    "    # Make a storage folder for models and data\n",
    "    if not os.path.exists(storage_folder):\n",
    "        os.makedirs(storage_folder)\n",
    "        \n",
    "    data_path = os.path.join(storage_folder, data_file)\n",
    "    \n",
    "    if not os.path.isfile(os.path.join(storage_folder, data_file)):           \n",
    "        _ = wget.download(data_url, data_path) \n",
    "\n",
    "    data = [l.strip() for l in open(data_path) if l.strip()]\n",
    "    features = [tuple(map(float, x.split(splitter)[:-1])) for x in data]\n",
    "    labels = [x.split(splitter)[-1] for x in data]\n",
    "    \n",
    "    return features, labels\n",
    "\n",
    "vector_values, labels = get_satellite()"
   ]
  },
  {
   "cell_type": "code",
   "execution_count": 2,
   "metadata": {},
   "outputs": [
    {
     "name": "stdout",
     "output_type": "stream",
     "text": [
      "Labels: \n",
      "{'3', '4', '2', '5', '1', '7'}\n",
      "Sample size: \n",
      "4435\n",
      "time: 2.78 s\n"
     ]
    }
   ],
   "source": [
    "import matplotlib.pyplot as plt\n",
    "import numpy as np\n",
    "import pandas as pd\n",
    "import seaborn as sns\n",
    "from matplotlib.mlab import PCA as mlabPCA\n",
    "import tensorflow as tf\n",
    "import math\n",
    "\n",
    "num_clusters = len(set(labels))\n",
    "num_vectors = len(vector_values)\n",
    "\n",
    "print(\"Labels: \")\n",
    "print(set(labels))\n",
    "print(\"Sample size: \")\n",
    "print(num_vectors)\n",
    "\n",
    "vectors = tf.constant(vector_values, dtype = tf.half)\n",
    "\n",
    "npArray = np.array(vector_values)\n",
    "mlab_pca = mlabPCA(npArray)\n",
    "users_2d = mlab_pca.project(npArray, minfrac=mlab_pca.fracs[1])\n",
    "\n",
    "def drawClusters(assignment_values):\n",
    "    data = {\"x\": [], \"y\": [], \"cluster\": []}\n",
    "    for i in range(len(assignment_values)):\n",
    "        data[\"x\"].append(users_2d[i][0])\n",
    "        data[\"y\"].append(users_2d[i][1])\n",
    "        data[\"cluster\"].append(assignment_values[i])\n",
    "    df = pd.DataFrame(data)\n",
    "    sns.lmplot(\"x\", \"y\", data=df, \n",
    "               fit_reg=False, size=7, \n",
    "               hue=\"cluster\", legend=False)\n",
    "    plt.show()"
   ]
  },
  {
   "cell_type": "code",
   "execution_count": 3,
   "metadata": {},
   "outputs": [
    {
     "name": "stdout",
     "output_type": "stream",
     "text": [
      "time: 129 ms\n"
     ]
    }
   ],
   "source": [
    "def atan2(x, y, epsilon=1.0e-12):\n",
    "    \"\"\"\n",
    "    A hack until the tf developers implement a function that can find the angle from an x and y co-ordinate.\n",
    "    :param x: \n",
    "    :param epsilon: \n",
    "    :return: \n",
    "    \"\"\"\n",
    "    # Add a small number to all zeros, to avoid division by zero:\n",
    "    x = tf.where(tf.equal(x, 0.0), x+epsilon, x)\n",
    "    y = tf.where(tf.equal(y, 0.0), y+epsilon, y)\n",
    "\n",
    "    angle = tf.where(tf.greater(x,0.0), tf.atan(y/x), tf.zeros_like(x))\n",
    "    angle = tf.where(tf.logical_and(tf.less(x,0.0),  tf.greater_equal(y,0.0)), tf.atan(y/x) + np.pi, angle)\n",
    "    angle = tf.where(tf.logical_and(tf.less(x,0.0),  tf.less(y,0.0)), tf.atan(y/x) - np.pi, angle)\n",
    "    angle = tf.where(tf.logical_and(tf.equal(x,0.0), tf.greater(y,0.0)), 0.5*np.pi * tf.ones_like(x), angle)\n",
    "    angle = tf.where(tf.logical_and(tf.equal(x,0.0), tf.less(y,0.0)), -0.5*np.pi * tf.ones_like(x), angle)\n",
    "    angle = tf.where(tf.logical_and(tf.equal(x,0.0), tf.equal(y,0.0)), tf.zeros_like(x), angle)\n",
    "    return angle\n",
    "    \n",
    "vectors_2d = tf.subtract(users_2d, tf.reduce_mean(users_2d, 0))\n",
    "angles_2d = tf.add(atan2(vectors_2d[:,1], vectors_2d[:,0]), np.pi)\n",
    "\n",
    "seg = np.pi*2/num_clusters\n",
    "init_assignments = tf.cast(tf.divide(angles_2d, seg), dtype=tf.int64)\n",
    "\n",
    "def initialize_clusters():\n",
    "    init_op = tf.global_variables_initializer()\n",
    "    with tf.Session() as sess:\n",
    "        sess.run(init_op)\n",
    "        assignment_values = sess.run(init_assignments)\n",
    "        sess.close()\n",
    "    return assignment_values"
   ]
  },
  {
   "cell_type": "code",
   "execution_count": 4,
   "metadata": {},
   "outputs": [
    {
     "name": "stdout",
     "output_type": "stream",
     "text": [
      "time: 1.21 s\n"
     ]
    }
   ],
   "source": [
    "#iteration variable\n",
    "assignments = tf.Variable(initialize_clusters(), dtype=tf.int64)\n",
    "\n",
    "#clusters are based on assignments\n",
    "clusters = [tf.gather(vectors, tf.squeeze(tf.where(tf.equal(assignments, c)), squeeze_dims=[1])) for c in range(num_clusters)]"
   ]
  },
  {
   "cell_type": "code",
   "execution_count": 5,
   "metadata": {},
   "outputs": [
    {
     "name": "stdout",
     "output_type": "stream",
     "text": [
      "time: 3 ms\n"
     ]
    }
   ],
   "source": [
    "def crossDistance(a, b, ord='euclidean'):\n",
    "    diff = tf.subtract(tf.expand_dims(a, 0), tf.expand_dims(b, 1))\n",
    "    result = tf.norm(diff, ord, 2)\n",
    "    return result"
   ]
  },
  {
   "cell_type": "code",
   "execution_count": 6,
   "metadata": {},
   "outputs": [
    {
     "name": "stdout",
     "output_type": "stream",
     "text": [
      "Wall time: 34 ms\n",
      "time: 42 ms\n"
     ]
    }
   ],
   "source": [
    "%%time\n",
    "means = tf.concat([\n",
    "    tf.expand_dims(tf.reduce_mean(cluster, 0), 0) \n",
    "    for cluster in clusters], 0)\n",
    "kmeans = tf.argmin(crossDistance(vectors, means), 0)"
   ]
  },
  {
   "cell_type": "code",
   "execution_count": 7,
   "metadata": {},
   "outputs": [
    {
     "name": "stdout",
     "output_type": "stream",
     "text": [
      "Wall time: 100 ms\n",
      "time: 103 ms\n"
     ]
    }
   ],
   "source": [
    "%%time\n",
    "medoids = tf.concat([\n",
    "    tf.expand_dims(tf.gather(cluster, tf.argmin(tf.reduce_sum(crossDistance(cluster, cluster), 0), 0)), 0)\n",
    "    for cluster in clusters], 0)\n",
    "kmedoids = tf.argmin(crossDistance(vectors, medoids), 0)"
   ]
  },
  {
   "cell_type": "code",
   "execution_count": 8,
   "metadata": {},
   "outputs": [
    {
     "name": "stdout",
     "output_type": "stream",
     "text": [
      "Wall time: 2.22 s\n",
      "time: 2.35 s\n"
     ]
    }
   ],
   "source": [
    "%%time\n",
    "def subsample(D, size, t):\n",
    "    size_D = tf.shape(D)[0]\n",
    "    selector_1 = tf.range(size_D, dtype=tf.int32)\n",
    "    selector_t = tf.slice(tf.map_fn(\n",
    "      lambda one: tf.random_shuffle(selector_1)  \n",
    "    , tf.ones([t, size_D], dtype=tf.int32)), [0,0], [t, size])\n",
    "    \n",
    "    return tf.gather(D, selector_t)\n",
    "\n",
    "def HM(X, D, t=500, psi = 20, lmbda=1.0, dt=tf.half):\n",
    "    size_X = tf.shape(X)[0]\n",
    "    dims_X = tf.shape(X)[1]\n",
    "    size_D = tf.shape(D)[0]\n",
    "    \n",
    "    ones_tX = tf.ones([t, size_X, dims_X], dtype=dt)  \n",
    "    \n",
    "    psi = tf.cond(tf.logical_and(tf.less(0, psi), tf.less(psi, size_D)), lambda: tf.constant(psi), lambda: size_D)\n",
    "    set_t_psi = tf.cond(psi<size_D, \n",
    "                        lambda: subsample(D, psi, t), \n",
    "                        # order of D will not matter and it will be broadcasted\n",
    "                        lambda: tf.expand_dims(D, 0)) \n",
    "    \n",
    "    ones_t_psi = tf.ones([t, psi, dims_X], dtype=dt) \n",
    "    \n",
    "    hm_X = tf.zeros([size_X], dtype=dt)\n",
    "    \n",
    "    directions = tf.random_uniform([t, dims_X], minval = -1, maxval = 1, dtype = dt)\n",
    "    projectors = tf.divide(directions, tf.norm(directions, axis=1, keep_dims=True))\n",
    "    \n",
    "    projects_X = tf.squeeze(tf.matmul(\n",
    "        tf.expand_dims(tf.multiply(ones_tX, tf.expand_dims(X, 0)), 2), \n",
    "        tf.expand_dims(tf.multiply(ones_tX, tf.expand_dims(projectors, 1)), 3)), [2, 3])\n",
    "    \n",
    "    projects_psi = tf.squeeze(tf.matmul(\n",
    "        tf.expand_dims(tf.multiply(ones_t_psi, set_t_psi), 2), \n",
    "        tf.expand_dims(tf.multiply(ones_t_psi, tf.expand_dims(projectors, 1)), 3)), [2, 3])\n",
    "    \n",
    "    mid_t_min = tf.add(\n",
    "        tf.multiply(tf.reduce_max(projects_psi, 1), (1-lmbda)/2),\n",
    "        tf.multiply(tf.reduce_min(projects_psi, 1), (1+lmbda)/2))\n",
    "    \n",
    "    mid_t_max = tf.add(\n",
    "        tf.multiply(tf.reduce_max(projects_psi, 1), (1+lmbda)/2),\n",
    "        tf.multiply(tf.reduce_min(projects_psi, 1), (1-lmbda)/2))\n",
    "    \n",
    "    mid_t = tf.add(mid_t_min, tf.multiply(tf.random_uniform([t], 0, 1, dtype=dt), tf.subtract(mid_t_max, mid_t_min)))\n",
    "    \n",
    "    mass_l_t = tf.divide(tf.reduce_sum(\n",
    "        tf.where(\n",
    "            tf.less(projects_psi, tf.expand_dims(mid_t, 1)), \n",
    "            tf.ones([t, psi], dtype=dt), \n",
    "            tf.zeros([t, psi], dtype=dt)), 1), tf.cast(psi, dtype=dt))\n",
    "    \n",
    "    mass_r_t = tf.add(tf.multiply(mass_l_t, -1), 1)\n",
    "    \n",
    "    mass_t = tf.where(tf.less(projects_X, tf.expand_dims(mid_t, 1)), \n",
    "                      tf.multiply(tf.ones([t, size_X], dtype=dt), tf.expand_dims(mass_l_t, 1)), \n",
    "                      tf.multiply(tf.ones([t, size_X], dtype=dt), tf.expand_dims(mass_r_t, 1)))\n",
    "    hs_mass = tf.reduce_mean(mass_t, 0)\n",
    "    return hs_mass\n",
    "\n",
    "kmass = tf.argmax(tf.concat([\n",
    "    tf.expand_dims(tf.divide(HM(vectors, cluster), tf.reduce_min(HM(vectors, cluster), 0, keep_dims=True)), 1)\n",
    "    for cluster in clusters\n",
    "], 1), 1)"
   ]
  },
  {
   "cell_type": "code",
   "execution_count": 9,
   "metadata": {},
   "outputs": [
    {
     "name": "stdout",
     "output_type": "stream",
     "text": [
      "Wall time: 2.98 ms\n",
      "time: 64 ms\n"
     ]
    }
   ],
   "source": [
    "%%time\n",
    "%matplotlib inline\n",
    "\n",
    "# method = kmeans\n",
    "# method = kmedoids\n",
    "# method = kmass\n",
    "\n",
    "def run(method = kmeans, p=1, round_max=10, output=False):\n",
    "    assignment_values = initialize_clusters()\n",
    "    \n",
    "    # os.environ['TF_CPP_MIN_LOG_LEVEL']='2'\n",
    "    # tf.logging.set_verbosity(tf.logging.ERROR)\n",
    "    gpu_options = tf.GPUOptions(per_process_gpu_memory_fraction=0.333)\n",
    "    sess_config = tf.ConfigProto(gpu_options=gpu_options)\n",
    "\n",
    "    init_op = tf.global_variables_initializer()\n",
    "    round_i = 0\n",
    "    keep_hurdle = num_vectors * p\n",
    "    keep_max = -1\n",
    "    best_result = assignment_values\n",
    "\n",
    "    # drawClusters(assignment_values)\n",
    "    while round_i < round_max:    \n",
    "        round_i = round_i + 1\n",
    "        if output:\n",
    "            print(round_i)\n",
    "        with tf.Session(config=sess_config) as sess:\n",
    "            sess.run(init_op)\n",
    "            round_result = sess.run(method)\n",
    "\n",
    "            keep_count = np.sum([\n",
    "                1 if assignment_values[i]==round_result[i] else 0\n",
    "                for i in range(num_vectors)\n",
    "            ])\n",
    "            if output:\n",
    "                print(keep_count)\n",
    "            if keep_max < keep_count:\n",
    "                keep_max = keep_count\n",
    "                best_result = round_result\n",
    "                if output:\n",
    "                    print(\"best_result was updated.\")\n",
    "\n",
    "            assignment_values = sess.run(tf.assign(assignments, round_result))\n",
    "    #         drawClusters(assignment_values)\n",
    "            sess.close()\n",
    "        if keep_count >= keep_hurdle:\n",
    "            if output:\n",
    "                print(\"keep_hurdle was hit.\")\n",
    "            break\n",
    "\n",
    "    if output:\n",
    "        print(\"The final P is \")\n",
    "        print(float(keep_max)/float(num_vectors))    \n",
    "        drawClusters(best_result)\n",
    "    return best_result"
   ]
  },
  {
   "cell_type": "code",
   "execution_count": 10,
   "metadata": {},
   "outputs": [
    {
     "name": "stdout",
     "output_type": "stream",
     "text": [
      "time: 5 ms\n"
     ]
    }
   ],
   "source": [
    "%run metrics.py"
   ]
  },
  {
   "cell_type": "code",
   "execution_count": 11,
   "metadata": {},
   "outputs": [
    {
     "name": "stdout",
     "output_type": "stream",
     "text": [
      "time: 45 ms\n"
     ]
    }
   ],
   "source": [
    "n_runs = 40 # number of runs with random initialization for clustering evaluation.\n",
    "\n",
    "def evaluation_scores(groundtruth, labels_pred):\n",
    "    \"\"\"\n",
    "    Eval scores of the predicted results.\n",
    "     \n",
    "    :param: groundtruth (type list): the groundtruth (GT) of cluster assignment. Each element denotes an item's GT cluster_id. \n",
    "    :param: labels_pred (type list): the predicted cluster assignments. Each element denotes an item's predicted cluster_id.\n",
    "    \"\"\"\n",
    "    NMI = normalized_mutual_info_score(groundtruth,labels_pred)\n",
    "    A = accuracy(groundtruth,labels_pred)\n",
    "    F1 = f_measure(groundtruth,labels_pred)\n",
    "    P = purity(groundtruth,labels_pred)\n",
    "    RI = random_index(groundtruth,labels_pred)\n",
    "    ARI = adjusted_rand_score(groundtruth,labels_pred)\n",
    "    map_pairs = get_map_pairs(groundtruth,labels_pred)\n",
    "    return NMI, A, F1, P, RI, ARI, map_pairs\n",
    "    \n",
    "def evaluation(method = kmeans):    \n",
    "    import time\n",
    "    t0 = time.time()\n",
    "    NMIs,As,F1s = [],[],[]\n",
    "    i_run = 1\n",
    "    labels_unique = np.unique(labels)\n",
    "    labels_indexed = []\n",
    "    for label in labels:\n",
    "        labels_indexed.append(np.where(labels_unique==label))\n",
    "    labels_indexed = np.squeeze(labels_indexed)\n",
    "    while i_run <= n_runs:\n",
    "        t1 = time.time()\n",
    "        result = run(method = method, output=False)\n",
    "        NMI,A,F1,P,RI,ARI,map_pairs = evaluation_scores(labels_indexed, result)\n",
    "        print(\"\\t {}-th run(time={}s),<Acc, F1, NMI>\\t{}\\t{}\\t{}\".format(i_run, time.time()-t1, A, F1, NMI))\n",
    "        i_run = i_run+1\n",
    "        NMIs.append(NMI)\n",
    "        As.append(A)\n",
    "        F1s.append(F1)\n",
    "\n",
    "    print(\"Results of {} runs (mean,std_var):\\n\\t Acc: {}, {}, {}, {}\\n\\t F1 : {}, {}, {}, {}\\n\\t NMI: {}, {}, {}, {}\"\n",
    "          .format(n_runs\n",
    "                  , np.mean(As),np.std(As), np.min(As), np.max(As)\n",
    "                  , np.mean(F1s),np.std(F1s), np.min(F1s), np.max(F1s)\n",
    "                  ,np.mean(NMIs),np.std(NMIs), np.min(NMIs), np.max(NMIs)))\n",
    "    print(\"Running time: {}s\".format(time.time() - t0))"
   ]
  },
  {
   "cell_type": "code",
   "execution_count": 12,
   "metadata": {},
   "outputs": [
    {
     "name": "stdout",
     "output_type": "stream",
     "text": [
      "\t 1-th run(time=218.53653764724731s),<Acc, F1, NMI>\t0.7143179255918828\t0.6709556340008455\t0.5416612203088361\n",
      "\t 2-th run(time=208.67164063453674s),<Acc, F1, NMI>\t0.7190529875986471\t0.7028509596266531\t0.5483422872931815\n",
      "\t 3-th run(time=208.8509178161621s),<Acc, F1, NMI>\t0.7533258173618941\t0.7171913892084877\t0.5749942858639627\n",
      "\t 4-th run(time=208.75124955177307s),<Acc, F1, NMI>\t0.6978579481397971\t0.6655524515099192\t0.5396746569689147\n",
      "\t 5-th run(time=209.6249167919159s),<Acc, F1, NMI>\t0.7346110484780158\t0.7186277858008704\t0.5610866298329668\n",
      "\t 6-th run(time=208.52689909934998s),<Acc, F1, NMI>\t0.6717023675310034\t0.661371746749661\t0.5040975343473673\n",
      "\t 7-th run(time=210.4552915096283s),<Acc, F1, NMI>\t0.7158962795941376\t0.6682469234961855\t0.5492603674794758\n",
      "\t 8-th run(time=209.06925106048584s),<Acc, F1, NMI>\t0.7589627959413754\t0.7338764985412478\t0.5797365727786506\n",
      "\t 9-th run(time=208.95204424858093s),<Acc, F1, NMI>\t0.7122886133032694\t0.6901696968525203\t0.5545560970988225\n",
      "\t 10-th run(time=208.93508219718933s),<Acc, F1, NMI>\t0.7319052987598648\t0.7128975077117324\t0.5656262376235953\n",
      "\t 11-th run(time=209.003493309021s),<Acc, F1, NMI>\t0.7447576099210823\t0.7166905551933485\t0.5880020289460854\n",
      "\t 12-th run(time=209.33071899414062s),<Acc, F1, NMI>\t0.7296505073280721\t0.7137818432851603\t0.5902799387274817\n",
      "\t 13-th run(time=208.93827891349792s),<Acc, F1, NMI>\t0.6931228861330327\t0.6859680531269214\t0.5223555146917302\n",
      "\t 14-th run(time=209.25223231315613s),<Acc, F1, NMI>\t0.73032694475761\t0.6987428027613051\t0.5547060854698582\n",
      "\t 15-th run(time=209.65902733802795s),<Acc, F1, NMI>\t0.7492671927846675\t0.7217421248142043\t0.572917179760921\n",
      "\t 16-th run(time=208.89647936820984s),<Acc, F1, NMI>\t0.7131905298759865\t0.6755814026559777\t0.5548480042902197\n",
      "\t 17-th run(time=209.85164976119995s),<Acc, F1, NMI>\t0.7425028184892898\t0.7243943141412034\t0.5724214789541886\n",
      "\t 18-th run(time=209.15825939178467s),<Acc, F1, NMI>\t0.7296505073280721\t0.7140182454313423\t0.5680863211271944\n",
      "\t 19-th run(time=209.7027952671051s),<Acc, F1, NMI>\t0.7314543404735062\t0.7242050886800979\t0.5840322147826841\n",
      "\t 20-th run(time=209.69639587402344s),<Acc, F1, NMI>\t0.7012401352874859\t0.6916632332370952\t0.5143243134500165\n",
      "\t 21-th run(time=210.43064069747925s),<Acc, F1, NMI>\t0.713641488162345\t0.6838717879068749\t0.5543956383247441\n",
      "\t 22-th run(time=209.99825310707092s),<Acc, F1, NMI>\t0.7501691093573845\t0.7227086966799005\t0.581541951670811\n",
      "\t 23-th run(time=210.33980107307434s),<Acc, F1, NMI>\t0.7386696730552423\t0.7089968892978394\t0.5708780220986587\n",
      "\t 24-th run(time=210.40868639945984s),<Acc, F1, NMI>\t0.6680947012401353\t0.649378616023671\t0.5033377392475552\n",
      "\t 25-th run(time=212.9710133075714s),<Acc, F1, NMI>\t0.6712514092446449\t0.6422866841671997\t0.5178733178638001\n",
      "\t 26-th run(time=212.65115237236023s),<Acc, F1, NMI>\t0.7573844419391206\t0.7166030684269541\t0.5852570876629364\n",
      "\t 27-th run(time=211.90734791755676s),<Acc, F1, NMI>\t0.7321307779030439\t0.7083494084184\t0.5545941818802593\n",
      "\t 28-th run(time=210.8589482307434s),<Acc, F1, NMI>\t0.7231116121758737\t0.6797996292243421\t0.5469616752227168\n",
      "\t 29-th run(time=211.07010793685913s),<Acc, F1, NMI>\t0.7404735062006764\t0.7135767576113935\t0.5680416792284417\n",
      "\t 30-th run(time=211.2349488735199s),<Acc, F1, NMI>\t0.7490417136414882\t0.7266101249561451\t0.5793937439992562\n",
      "\t 31-th run(time=210.9492175579071s),<Acc, F1, NMI>\t0.742728297632469\t0.7287620984275295\t0.5947489031276755\n",
      "\t 32-th run(time=210.80279970169067s),<Acc, F1, NMI>\t0.7704622322435175\t0.7359278105601662\t0.5924125713719463\n",
      "\t 33-th run(time=211.437495470047s),<Acc, F1, NMI>\t0.7102593010146562\t0.6853187074591552\t0.5309312196986982\n",
      "\t 34-th run(time=212.13880705833435s),<Acc, F1, NMI>\t0.742728297632469\t0.7216842694093254\t0.5762998888610499\n",
      "\t 35-th run(time=211.52243399620056s),<Acc, F1, NMI>\t0.716347237880496\t0.6821866889494324\t0.5233258812668986\n",
      "\t 36-th run(time=212.29182529449463s),<Acc, F1, NMI>\t0.7648252536640361\t0.7372398277174765\t0.5898610571319618\n",
      "\t 37-th run(time=211.44453024864197s),<Acc, F1, NMI>\t0.7370913190529876\t0.7111097777901474\t0.5693237976315694\n",
      "\t 38-th run(time=211.44205951690674s),<Acc, F1, NMI>\t0.763021420518602\t0.733226567430425\t0.5852333082002157\n",
      "\t 39-th run(time=212.14984583854675s),<Acc, F1, NMI>\t0.7364148816234498\t0.7175218120676538\t0.5707379264206943\n",
      "\t 40-th run(time=211.79660296440125s),<Acc, F1, NMI>\t0.7641488162344983\t0.7379275719346342\t0.5799749500149108\n",
      "Results of 40 runs (mean,std_var):\n",
      "\t Acc: 0.7291770011273957, 0.025156379696489276, 0.6680947012401353, 0.7704622322435175\n",
      "\t F1 : 0.7037903762820861, 0.025038465033791694, 0.6422866841671997, 0.7379275719346342\n",
      "\t NMI: 0.5604033377680239, 0.0248693889806974, 0.5033377392475552, 0.5947489031276755\n",
      "Running time: 8422.164764165878s\n",
      "time: 2h 20min 22s\n"
     ]
    }
   ],
   "source": [
    "evaluation(kmass)"
   ]
  },
  {
   "cell_type": "code",
   "execution_count": 13,
   "metadata": {},
   "outputs": [
    {
     "name": "stdout",
     "output_type": "stream",
     "text": [
      "\t 1-th run(time=4.870031118392944s),<Acc, F1, NMI>\t0.7871476888387824\t0.7633684286907276\t0.6368381438481568\n",
      "\t 2-th run(time=4.585720062255859s),<Acc, F1, NMI>\t0.7871476888387824\t0.7633684286907276\t0.6368381438481568\n",
      "\t 3-th run(time=4.6032750606536865s),<Acc, F1, NMI>\t0.7871476888387824\t0.7633684286907276\t0.6368381438481568\n",
      "\t 4-th run(time=4.618605375289917s),<Acc, F1, NMI>\t0.7871476888387824\t0.7633684286907276\t0.6368381438481568\n",
      "\t 5-th run(time=4.616146802902222s),<Acc, F1, NMI>\t0.7871476888387824\t0.7633684286907276\t0.6368381438481568\n",
      "\t 6-th run(time=4.770400524139404s),<Acc, F1, NMI>\t0.7871476888387824\t0.7633684286907276\t0.6368381438481568\n",
      "\t 7-th run(time=4.630299091339111s),<Acc, F1, NMI>\t0.7871476888387824\t0.7633684286907276\t0.6368381438481568\n",
      "\t 8-th run(time=4.630197763442993s),<Acc, F1, NMI>\t0.7871476888387824\t0.7633684286907276\t0.6368381438481568\n",
      "\t 9-th run(time=4.645398139953613s),<Acc, F1, NMI>\t0.7871476888387824\t0.7633684286907276\t0.6368381438481568\n",
      "\t 10-th run(time=4.785421848297119s),<Acc, F1, NMI>\t0.7871476888387824\t0.7633684286907276\t0.6368381438481568\n",
      "\t 11-th run(time=4.703415155410767s),<Acc, F1, NMI>\t0.7871476888387824\t0.7633684286907276\t0.6368381438481568\n",
      "\t 12-th run(time=4.645342111587524s),<Acc, F1, NMI>\t0.7871476888387824\t0.7633684286907276\t0.6368381438481568\n",
      "\t 13-th run(time=4.665110111236572s),<Acc, F1, NMI>\t0.7871476888387824\t0.7633684286907276\t0.6368381438481568\n",
      "\t 14-th run(time=4.782900810241699s),<Acc, F1, NMI>\t0.7871476888387824\t0.7633684286907276\t0.6368381438481568\n",
      "\t 15-th run(time=4.6813600063323975s),<Acc, F1, NMI>\t0.7871476888387824\t0.7633684286907276\t0.6368381438481568\n",
      "\t 16-th run(time=4.6842942237854s),<Acc, F1, NMI>\t0.7871476888387824\t0.7633684286907276\t0.6368381438481568\n",
      "\t 17-th run(time=4.694792985916138s),<Acc, F1, NMI>\t0.7871476888387824\t0.7633684286907276\t0.6368381438481568\n",
      "\t 18-th run(time=4.820442199707031s),<Acc, F1, NMI>\t0.7871476888387824\t0.7633684286907276\t0.6368381438481568\n",
      "\t 19-th run(time=4.733041524887085s),<Acc, F1, NMI>\t0.7871476888387824\t0.7633684286907276\t0.6368381438481568\n",
      "\t 20-th run(time=4.731696128845215s),<Acc, F1, NMI>\t0.7871476888387824\t0.7633684286907276\t0.6368381438481568\n",
      "\t 21-th run(time=4.855451583862305s),<Acc, F1, NMI>\t0.7871476888387824\t0.7633684286907276\t0.6368381438481568\n",
      "\t 22-th run(time=4.698318958282471s),<Acc, F1, NMI>\t0.7871476888387824\t0.7633684286907276\t0.6368381438481568\n",
      "\t 23-th run(time=4.741800308227539s),<Acc, F1, NMI>\t0.7871476888387824\t0.7633684286907276\t0.6368381438481568\n",
      "\t 24-th run(time=4.708352565765381s),<Acc, F1, NMI>\t0.7871476888387824\t0.7633684286907276\t0.6368381438481568\n",
      "\t 25-th run(time=4.853488922119141s),<Acc, F1, NMI>\t0.7871476888387824\t0.7633684286907276\t0.6368381438481568\n",
      "\t 26-th run(time=4.742431402206421s),<Acc, F1, NMI>\t0.7871476888387824\t0.7633684286907276\t0.6368381438481568\n",
      "\t 27-th run(time=4.74140477180481s),<Acc, F1, NMI>\t0.7871476888387824\t0.7633684286907276\t0.6368381438481568\n",
      "\t 28-th run(time=4.740626811981201s),<Acc, F1, NMI>\t0.7871476888387824\t0.7633684286907276\t0.6368381438481568\n",
      "\t 29-th run(time=4.887546539306641s),<Acc, F1, NMI>\t0.7871476888387824\t0.7633684286907276\t0.6368381438481568\n",
      "\t 30-th run(time=4.740362644195557s),<Acc, F1, NMI>\t0.7871476888387824\t0.7633684286907276\t0.6368381438481568\n",
      "\t 31-th run(time=4.764739751815796s),<Acc, F1, NMI>\t0.7871476888387824\t0.7633684286907276\t0.6368381438481568\n",
      "\t 32-th run(time=4.779395580291748s),<Acc, F1, NMI>\t0.7871476888387824\t0.7633684286907276\t0.6368381438481568\n",
      "\t 33-th run(time=8.433980703353882s),<Acc, F1, NMI>\t0.7871476888387824\t0.7633684286907276\t0.6368381438481568\n",
      "\t 34-th run(time=4.758187532424927s),<Acc, F1, NMI>\t0.7871476888387824\t0.7633684286907276\t0.6368381438481568\n",
      "\t 35-th run(time=4.823497533798218s),<Acc, F1, NMI>\t0.7871476888387824\t0.7633684286907276\t0.6368381438481568\n",
      "\t 36-th run(time=4.937295436859131s),<Acc, F1, NMI>\t0.7871476888387824\t0.7633684286907276\t0.6368381438481568\n",
      "\t 37-th run(time=4.7922844886779785s),<Acc, F1, NMI>\t0.7871476888387824\t0.7633684286907276\t0.6368381438481568\n",
      "\t 38-th run(time=4.932992696762085s),<Acc, F1, NMI>\t0.7871476888387824\t0.7633684286907276\t0.6368381438481568\n",
      "\t 39-th run(time=4.929089069366455s),<Acc, F1, NMI>\t0.7871476888387824\t0.7633684286907276\t0.6368381438481568\n",
      "\t 40-th run(time=4.814420938491821s),<Acc, F1, NMI>\t0.7871476888387824\t0.7633684286907276\t0.6368381438481568\n",
      "Results of 40 runs (mean,std_var):\n",
      "\t Acc: 0.7871476888387824, 0.0, 0.7871476888387824, 0.7871476888387824\n",
      "\t F1 : 0.7633684286907276, 0.0, 0.7633684286907276, 0.7633684286907276\n",
      "\t NMI: 0.6368381438481568, 0.0, 0.6368381438481568, 0.6368381438481568\n",
      "Running time: 193.60871076583862s\n",
      "time: 3min 13s\n"
     ]
    }
   ],
   "source": [
    "evaluation(kmeans)"
   ]
  },
  {
   "cell_type": "code",
   "execution_count": 14,
   "metadata": {},
   "outputs": [
    {
     "name": "stdout",
     "output_type": "stream",
     "text": [
      "\t 1-th run(time=5.017580270767212s),<Acc, F1, NMI>\t0.5600901916572717\t0.5543403133711635\t0.4709532115621985\n",
      "\t 2-th run(time=4.8765130043029785s),<Acc, F1, NMI>\t0.5600901916572717\t0.5543403133711635\t0.4709532115621985\n",
      "\t 3-th run(time=4.874467611312866s),<Acc, F1, NMI>\t0.5600901916572717\t0.5543403133711635\t0.4709532115621985\n",
      "\t 4-th run(time=4.86095118522644s),<Acc, F1, NMI>\t0.5600901916572717\t0.5543403133711635\t0.4709532115621985\n",
      "\t 5-th run(time=4.985792636871338s),<Acc, F1, NMI>\t0.5600901916572717\t0.5543403133711635\t0.4709532115621985\n",
      "\t 6-th run(time=4.886692762374878s),<Acc, F1, NMI>\t0.5600901916572717\t0.5543403133711635\t0.4709532115621985\n",
      "\t 7-th run(time=4.906470060348511s),<Acc, F1, NMI>\t0.5600901916572717\t0.5543403133711635\t0.4709532115621985\n",
      "\t 8-th run(time=5.042582988739014s),<Acc, F1, NMI>\t0.5600901916572717\t0.5543403133711635\t0.4709532115621985\n",
      "\t 9-th run(time=4.919557094573975s),<Acc, F1, NMI>\t0.5600901916572717\t0.5543403133711635\t0.4709532115621985\n",
      "\t 10-th run(time=4.911499977111816s),<Acc, F1, NMI>\t0.5600901916572717\t0.5543403133711635\t0.4709532115621985\n",
      "\t 11-th run(time=4.924418926239014s),<Acc, F1, NMI>\t0.5600901916572717\t0.5543403133711635\t0.4709532115621985\n",
      "\t 12-th run(time=5.050171852111816s),<Acc, F1, NMI>\t0.5600901916572717\t0.5543403133711635\t0.4709532115621985\n",
      "\t 13-th run(time=4.918864727020264s),<Acc, F1, NMI>\t0.5600901916572717\t0.5543403133711635\t0.4709532115621985\n",
      "\t 14-th run(time=4.958524227142334s),<Acc, F1, NMI>\t0.5600901916572717\t0.5543403133711635\t0.4709532115621985\n",
      "\t 15-th run(time=4.947575330734253s),<Acc, F1, NMI>\t0.5600901916572717\t0.5543403133711635\t0.4709532115621985\n",
      "\t 16-th run(time=5.0746071338653564s),<Acc, F1, NMI>\t0.5600901916572717\t0.5543403133711635\t0.4709532115621985\n",
      "\t 17-th run(time=4.949557542800903s),<Acc, F1, NMI>\t0.5600901916572717\t0.5543403133711635\t0.4709532115621985\n",
      "\t 18-th run(time=4.959356307983398s),<Acc, F1, NMI>\t0.5600901916572717\t0.5543403133711635\t0.4709532115621985\n",
      "\t 19-th run(time=4.964545249938965s),<Acc, F1, NMI>\t0.5600901916572717\t0.5543403133711635\t0.4709532115621985\n",
      "\t 20-th run(time=5.127861261367798s),<Acc, F1, NMI>\t0.5600901916572717\t0.5543403133711635\t0.4709532115621985\n",
      "\t 21-th run(time=4.986565351486206s),<Acc, F1, NMI>\t0.5600901916572717\t0.5543403133711635\t0.4709532115621985\n",
      "\t 22-th run(time=5.015636205673218s),<Acc, F1, NMI>\t0.5600901916572717\t0.5543403133711635\t0.4709532115621985\n",
      "\t 23-th run(time=4.999603033065796s),<Acc, F1, NMI>\t0.5600901916572717\t0.5543403133711635\t0.4709532115621985\n",
      "\t 24-th run(time=5.133783340454102s),<Acc, F1, NMI>\t0.5600901916572717\t0.5543403133711635\t0.4709532115621985\n",
      "\t 25-th run(time=5.048079490661621s),<Acc, F1, NMI>\t0.5600901916572717\t0.5543403133711635\t0.4709532115621985\n",
      "\t 26-th run(time=5.136688232421875s),<Acc, F1, NMI>\t0.5600901916572717\t0.5543403133711635\t0.4709532115621985\n",
      "\t 27-th run(time=5.025972366333008s),<Acc, F1, NMI>\t0.5600901916572717\t0.5543403133711635\t0.4709532115621985\n",
      "\t 28-th run(time=5.006632566452026s),<Acc, F1, NMI>\t0.5600901916572717\t0.5543403133711635\t0.4709532115621985\n",
      "\t 29-th run(time=5.1506428718566895s),<Acc, F1, NMI>\t0.5600901916572717\t0.5543403133711635\t0.4709532115621985\n",
      "\t 30-th run(time=5.042944669723511s),<Acc, F1, NMI>\t0.5600901916572717\t0.5543403133711635\t0.4709532115621985\n",
      "\t 31-th run(time=5.090562582015991s),<Acc, F1, NMI>\t0.5600901916572717\t0.5543403133711635\t0.4709532115621985\n",
      "\t 32-th run(time=5.1646645069122314s),<Acc, F1, NMI>\t0.5600901916572717\t0.5543403133711635\t0.4709532115621985\n",
      "\t 33-th run(time=5.023089647293091s),<Acc, F1, NMI>\t0.5600901916572717\t0.5543403133711635\t0.4709532115621985\n",
      "\t 34-th run(time=5.1227216720581055s),<Acc, F1, NMI>\t0.5600901916572717\t0.5543403133711635\t0.4709532115621985\n",
      "\t 35-th run(time=5.190705060958862s),<Acc, F1, NMI>\t0.5600901916572717\t0.5543403133711635\t0.4709532115621985\n",
      "\t 36-th run(time=5.03598690032959s),<Acc, F1, NMI>\t0.5600901916572717\t0.5543403133711635\t0.4709532115621985\n",
      "\t 37-th run(time=5.061596632003784s),<Acc, F1, NMI>\t0.5600901916572717\t0.5543403133711635\t0.4709532115621985\n",
      "\t 38-th run(time=5.192234039306641s),<Acc, F1, NMI>\t0.5600901916572717\t0.5543403133711635\t0.4709532115621985\n",
      "\t 39-th run(time=5.071649074554443s),<Acc, F1, NMI>\t0.5600901916572717\t0.5543403133711635\t0.4709532115621985\n",
      "\t 40-th run(time=5.072709798812866s),<Acc, F1, NMI>\t0.5600901916572717\t0.5543403133711635\t0.4709532115621985\n",
      "Results of 40 runs (mean,std_var):\n",
      "\t Acc: 0.5600901916572717, 0.0, 0.5600901916572717, 0.5600901916572717\n",
      "\t F1 : 0.5543403133711635, 0.0, 0.5543403133711635, 0.5543403133711635\n",
      "\t NMI: 0.4709532115621985, 0.0, 0.4709532115621985, 0.4709532115621985\n",
      "Running time: 200.75007963180542s\n",
      "time: 3min 20s\n"
     ]
    }
   ],
   "source": [
    "evaluation(kmedoids)"
   ]
  }
 ],
 "metadata": {
  "kernelspec": {
   "display_name": "Python 3",
   "language": "python",
   "name": "python3"
  },
  "language_info": {
   "codemirror_mode": {
    "name": "ipython",
    "version": 3
   },
   "file_extension": ".py",
   "mimetype": "text/x-python",
   "name": "python",
   "nbconvert_exporter": "python",
   "pygments_lexer": "ipython3",
   "version": "3.5.3"
  },
  "widgets": {
   "state": {},
   "version": "1.1.2"
  }
 },
 "nbformat": 4,
 "nbformat_minor": 2
}
